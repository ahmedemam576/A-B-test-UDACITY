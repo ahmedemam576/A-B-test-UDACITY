{
 "cells": [
  {
   "cell_type": "code",
   "execution_count": 1,
   "id": "intended-klein",
   "metadata": {
    "_cell_guid": "b1076dfc-b9ad-4769-8c92-a6c4dae69d19",
    "_uuid": "8f2839f25d086af736a60e9eeb907d3b93b6e0e5",
    "execution": {
     "iopub.execute_input": "2023-11-28T13:28:44.370048Z",
     "iopub.status.busy": "2023-11-28T13:28:44.369014Z",
     "iopub.status.idle": "2023-11-28T13:28:45.412338Z",
     "shell.execute_reply": "2023-11-28T13:28:45.411362Z",
     "shell.execute_reply.started": "2023-11-28T13:15:08.092835Z"
    },
    "papermill": {
     "duration": 1.109983,
     "end_time": "2023-11-28T13:28:45.412543",
     "exception": false,
     "start_time": "2023-11-28T13:28:44.302560",
     "status": "completed"
    },
    "tags": []
   },
   "outputs": [],
   "source": [
    "#import the needed libraries\n",
    "\n",
    "\n",
    "import numpy as np\n",
    "import pandas as pd\n",
    "import matplotlib.pyplot as plt\n",
    "import seaborn as sb\n",
    "import os\n",
    "\n",
    "\n",
    "%matplotlib inline\n",
    "\n"
   ]
  },
  {
   "cell_type": "markdown",
   "id": "respective-norwegian",
   "metadata": {
    "papermill": {
     "duration": 0.054094,
     "end_time": "2023-11-28T13:28:45.524457",
     "exception": false,
     "start_time": "2023-11-28T13:28:45.470363",
     "status": "completed"
    },
    "tags": []
   },
   "source": [
    "## explore the different columns and cleaning the data"
   ]
  },
  {
   "cell_type": "code",
   "execution_count": 2,
   "id": "incorrect-judgment",
   "metadata": {
    "execution": {
     "iopub.execute_input": "2023-11-28T13:28:45.639583Z",
     "iopub.status.busy": "2023-11-28T13:28:45.638848Z",
     "iopub.status.idle": "2023-11-28T13:28:46.940975Z",
     "shell.execute_reply": "2023-11-28T13:28:46.940087Z",
     "shell.execute_reply.started": "2023-11-28T13:15:09.010113Z"
    },
    "papermill": {
     "duration": 1.360187,
     "end_time": "2023-11-28T13:28:46.941154",
     "exception": false,
     "start_time": "2023-11-28T13:28:45.580967",
     "status": "completed"
    },
    "tags": []
   },
   "outputs": [],
   "source": [
    "df = pd.read_csv(\"../input/ford-123/201902-fordgobike-tripdata (1).csv\")"
   ]
  },
  {
   "cell_type": "code",
   "execution_count": 3,
   "id": "spectacular-silicon",
   "metadata": {
    "execution": {
     "iopub.execute_input": "2023-11-28T13:28:47.065219Z",
     "iopub.status.busy": "2023-11-28T13:28:47.064394Z",
     "iopub.status.idle": "2023-11-28T13:28:47.101394Z",
     "shell.execute_reply": "2023-11-28T13:28:47.102021Z",
     "shell.execute_reply.started": "2023-11-28T13:15:10.267029Z"
    },
    "papermill": {
     "duration": 0.106111,
     "end_time": "2023-11-28T13:28:47.102220",
     "exception": false,
     "start_time": "2023-11-28T13:28:46.996109",
     "status": "completed"
    },
    "tags": []
   },
   "outputs": [
    {
     "data": {
      "text/html": [
       "<div>\n",
       "<style scoped>\n",
       "    .dataframe tbody tr th:only-of-type {\n",
       "        vertical-align: middle;\n",
       "    }\n",
       "\n",
       "    .dataframe tbody tr th {\n",
       "        vertical-align: top;\n",
       "    }\n",
       "\n",
       "    .dataframe thead th {\n",
       "        text-align: right;\n",
       "    }\n",
       "</style>\n",
       "<table border=\"1\" class=\"dataframe\">\n",
       "  <thead>\n",
       "    <tr style=\"text-align: right;\">\n",
       "      <th></th>\n",
       "      <th>duration_sec</th>\n",
       "      <th>start_time</th>\n",
       "      <th>end_time</th>\n",
       "      <th>start_station_id</th>\n",
       "      <th>start_station_name</th>\n",
       "      <th>start_station_latitude</th>\n",
       "      <th>start_station_longitude</th>\n",
       "      <th>end_station_id</th>\n",
       "      <th>end_station_name</th>\n",
       "      <th>end_station_latitude</th>\n",
       "      <th>end_station_longitude</th>\n",
       "      <th>bike_id</th>\n",
       "      <th>user_type</th>\n",
       "      <th>member_birth_year</th>\n",
       "      <th>member_gender</th>\n",
       "      <th>bike_share_for_all_trip</th>\n",
       "    </tr>\n",
       "  </thead>\n",
       "  <tbody>\n",
       "    <tr>\n",
       "      <th>0</th>\n",
       "      <td>52185</td>\n",
       "      <td>2019-02-28 17:32:10.1450</td>\n",
       "      <td>2019-03-01 08:01:55.9750</td>\n",
       "      <td>21.0</td>\n",
       "      <td>Montgomery St BART Station (Market St at 2nd St)</td>\n",
       "      <td>37.789625</td>\n",
       "      <td>-122.400811</td>\n",
       "      <td>13.0</td>\n",
       "      <td>Commercial St at Montgomery St</td>\n",
       "      <td>37.794231</td>\n",
       "      <td>-122.402923</td>\n",
       "      <td>4902</td>\n",
       "      <td>Customer</td>\n",
       "      <td>1984.0</td>\n",
       "      <td>Male</td>\n",
       "      <td>No</td>\n",
       "    </tr>\n",
       "    <tr>\n",
       "      <th>1</th>\n",
       "      <td>42521</td>\n",
       "      <td>2019-02-28 18:53:21.7890</td>\n",
       "      <td>2019-03-01 06:42:03.0560</td>\n",
       "      <td>23.0</td>\n",
       "      <td>The Embarcadero at Steuart St</td>\n",
       "      <td>37.791464</td>\n",
       "      <td>-122.391034</td>\n",
       "      <td>81.0</td>\n",
       "      <td>Berry St at 4th St</td>\n",
       "      <td>37.775880</td>\n",
       "      <td>-122.393170</td>\n",
       "      <td>2535</td>\n",
       "      <td>Customer</td>\n",
       "      <td>NaN</td>\n",
       "      <td>NaN</td>\n",
       "      <td>No</td>\n",
       "    </tr>\n",
       "    <tr>\n",
       "      <th>2</th>\n",
       "      <td>61854</td>\n",
       "      <td>2019-02-28 12:13:13.2180</td>\n",
       "      <td>2019-03-01 05:24:08.1460</td>\n",
       "      <td>86.0</td>\n",
       "      <td>Market St at Dolores St</td>\n",
       "      <td>37.769305</td>\n",
       "      <td>-122.426826</td>\n",
       "      <td>3.0</td>\n",
       "      <td>Powell St BART Station (Market St at 4th St)</td>\n",
       "      <td>37.786375</td>\n",
       "      <td>-122.404904</td>\n",
       "      <td>5905</td>\n",
       "      <td>Customer</td>\n",
       "      <td>1972.0</td>\n",
       "      <td>Male</td>\n",
       "      <td>No</td>\n",
       "    </tr>\n",
       "    <tr>\n",
       "      <th>3</th>\n",
       "      <td>36490</td>\n",
       "      <td>2019-02-28 17:54:26.0100</td>\n",
       "      <td>2019-03-01 04:02:36.8420</td>\n",
       "      <td>375.0</td>\n",
       "      <td>Grove St at Masonic Ave</td>\n",
       "      <td>37.774836</td>\n",
       "      <td>-122.446546</td>\n",
       "      <td>70.0</td>\n",
       "      <td>Central Ave at Fell St</td>\n",
       "      <td>37.773311</td>\n",
       "      <td>-122.444293</td>\n",
       "      <td>6638</td>\n",
       "      <td>Subscriber</td>\n",
       "      <td>1989.0</td>\n",
       "      <td>Other</td>\n",
       "      <td>No</td>\n",
       "    </tr>\n",
       "    <tr>\n",
       "      <th>4</th>\n",
       "      <td>1585</td>\n",
       "      <td>2019-02-28 23:54:18.5490</td>\n",
       "      <td>2019-03-01 00:20:44.0740</td>\n",
       "      <td>7.0</td>\n",
       "      <td>Frank H Ogawa Plaza</td>\n",
       "      <td>37.804562</td>\n",
       "      <td>-122.271738</td>\n",
       "      <td>222.0</td>\n",
       "      <td>10th Ave at E 15th St</td>\n",
       "      <td>37.792714</td>\n",
       "      <td>-122.248780</td>\n",
       "      <td>4898</td>\n",
       "      <td>Subscriber</td>\n",
       "      <td>1974.0</td>\n",
       "      <td>Male</td>\n",
       "      <td>Yes</td>\n",
       "    </tr>\n",
       "  </tbody>\n",
       "</table>\n",
       "</div>"
      ],
      "text/plain": [
       "   duration_sec                start_time                  end_time  \\\n",
       "0         52185  2019-02-28 17:32:10.1450  2019-03-01 08:01:55.9750   \n",
       "1         42521  2019-02-28 18:53:21.7890  2019-03-01 06:42:03.0560   \n",
       "2         61854  2019-02-28 12:13:13.2180  2019-03-01 05:24:08.1460   \n",
       "3         36490  2019-02-28 17:54:26.0100  2019-03-01 04:02:36.8420   \n",
       "4          1585  2019-02-28 23:54:18.5490  2019-03-01 00:20:44.0740   \n",
       "\n",
       "   start_station_id                                start_station_name  \\\n",
       "0              21.0  Montgomery St BART Station (Market St at 2nd St)   \n",
       "1              23.0                     The Embarcadero at Steuart St   \n",
       "2              86.0                           Market St at Dolores St   \n",
       "3             375.0                           Grove St at Masonic Ave   \n",
       "4               7.0                               Frank H Ogawa Plaza   \n",
       "\n",
       "   start_station_latitude  start_station_longitude  end_station_id  \\\n",
       "0               37.789625              -122.400811            13.0   \n",
       "1               37.791464              -122.391034            81.0   \n",
       "2               37.769305              -122.426826             3.0   \n",
       "3               37.774836              -122.446546            70.0   \n",
       "4               37.804562              -122.271738           222.0   \n",
       "\n",
       "                               end_station_name  end_station_latitude  \\\n",
       "0                Commercial St at Montgomery St             37.794231   \n",
       "1                            Berry St at 4th St             37.775880   \n",
       "2  Powell St BART Station (Market St at 4th St)             37.786375   \n",
       "3                        Central Ave at Fell St             37.773311   \n",
       "4                         10th Ave at E 15th St             37.792714   \n",
       "\n",
       "   end_station_longitude  bike_id   user_type  member_birth_year  \\\n",
       "0            -122.402923     4902    Customer             1984.0   \n",
       "1            -122.393170     2535    Customer                NaN   \n",
       "2            -122.404904     5905    Customer             1972.0   \n",
       "3            -122.444293     6638  Subscriber             1989.0   \n",
       "4            -122.248780     4898  Subscriber             1974.0   \n",
       "\n",
       "  member_gender bike_share_for_all_trip  \n",
       "0          Male                      No  \n",
       "1           NaN                      No  \n",
       "2          Male                      No  \n",
       "3         Other                      No  \n",
       "4          Male                     Yes  "
      ]
     },
     "execution_count": 3,
     "metadata": {},
     "output_type": "execute_result"
    }
   ],
   "source": [
    "df.head()"
   ]
  },
  {
   "cell_type": "code",
   "execution_count": 4,
   "id": "electrical-allen",
   "metadata": {
    "execution": {
     "iopub.execute_input": "2023-11-28T13:28:47.223334Z",
     "iopub.status.busy": "2023-11-28T13:28:47.222503Z",
     "iopub.status.idle": "2023-11-28T13:28:47.226755Z",
     "shell.execute_reply": "2023-11-28T13:28:47.227352Z",
     "shell.execute_reply.started": "2023-11-28T13:15:10.310177Z"
    },
    "papermill": {
     "duration": 0.066491,
     "end_time": "2023-11-28T13:28:47.227552",
     "exception": false,
     "start_time": "2023-11-28T13:28:47.161061",
     "status": "completed"
    },
    "tags": []
   },
   "outputs": [
    {
     "data": {
      "text/plain": [
       "(183412, 16)"
      ]
     },
     "execution_count": 4,
     "metadata": {},
     "output_type": "execute_result"
    }
   ],
   "source": [
    "df.shape"
   ]
  },
  {
   "cell_type": "code",
   "execution_count": 5,
   "id": "useful-constitutional",
   "metadata": {
    "execution": {
     "iopub.execute_input": "2023-11-28T13:28:47.344480Z",
     "iopub.status.busy": "2023-11-28T13:28:47.343701Z",
     "iopub.status.idle": "2023-11-28T13:28:47.512652Z",
     "shell.execute_reply": "2023-11-28T13:28:47.513243Z",
     "shell.execute_reply.started": "2023-11-28T13:15:10.319917Z"
    },
    "papermill": {
     "duration": 0.228379,
     "end_time": "2023-11-28T13:28:47.513471",
     "exception": false,
     "start_time": "2023-11-28T13:28:47.285092",
     "status": "completed"
    },
    "tags": []
   },
   "outputs": [
    {
     "name": "stdout",
     "output_type": "stream",
     "text": [
      "<class 'pandas.core.frame.DataFrame'>\n",
      "RangeIndex: 183412 entries, 0 to 183411\n",
      "Data columns (total 16 columns):\n",
      " #   Column                   Non-Null Count   Dtype  \n",
      "---  ------                   --------------   -----  \n",
      " 0   duration_sec             183412 non-null  int64  \n",
      " 1   start_time               183412 non-null  object \n",
      " 2   end_time                 183412 non-null  object \n",
      " 3   start_station_id         183215 non-null  float64\n",
      " 4   start_station_name       183215 non-null  object \n",
      " 5   start_station_latitude   183412 non-null  float64\n",
      " 6   start_station_longitude  183412 non-null  float64\n",
      " 7   end_station_id           183215 non-null  float64\n",
      " 8   end_station_name         183215 non-null  object \n",
      " 9   end_station_latitude     183412 non-null  float64\n",
      " 10  end_station_longitude    183412 non-null  float64\n",
      " 11  bike_id                  183412 non-null  int64  \n",
      " 12  user_type                183412 non-null  object \n",
      " 13  member_birth_year        175147 non-null  float64\n",
      " 14  member_gender            175147 non-null  object \n",
      " 15  bike_share_for_all_trip  183412 non-null  object \n",
      "dtypes: float64(7), int64(2), object(7)\n",
      "memory usage: 22.4+ MB\n"
     ]
    }
   ],
   "source": [
    "df.info()"
   ]
  },
  {
   "cell_type": "code",
   "execution_count": 6,
   "id": "prostate-regular",
   "metadata": {
    "execution": {
     "iopub.execute_input": "2023-11-28T13:28:47.631291Z",
     "iopub.status.busy": "2023-11-28T13:28:47.630513Z",
     "iopub.status.idle": "2023-11-28T13:28:47.774259Z",
     "shell.execute_reply": "2023-11-28T13:28:47.774853Z",
     "shell.execute_reply.started": "2023-11-28T13:15:10.485733Z"
    },
    "papermill": {
     "duration": 0.205182,
     "end_time": "2023-11-28T13:28:47.775052",
     "exception": false,
     "start_time": "2023-11-28T13:28:47.569870",
     "status": "completed"
    },
    "tags": []
   },
   "outputs": [
    {
     "data": {
      "text/plain": [
       "duration_sec                  0\n",
       "start_time                    0\n",
       "end_time                      0\n",
       "start_station_id            197\n",
       "start_station_name          197\n",
       "start_station_latitude        0\n",
       "start_station_longitude       0\n",
       "end_station_id              197\n",
       "end_station_name            197\n",
       "end_station_latitude          0\n",
       "end_station_longitude         0\n",
       "bike_id                       0\n",
       "user_type                     0\n",
       "member_birth_year          8265\n",
       "member_gender              8265\n",
       "bike_share_for_all_trip       0\n",
       "dtype: int64"
      ]
     },
     "execution_count": 6,
     "metadata": {},
     "output_type": "execute_result"
    }
   ],
   "source": [
    "df.isnull().sum()\n"
   ]
  },
  {
   "cell_type": "code",
   "execution_count": 7,
   "id": "korean-subject",
   "metadata": {
    "execution": {
     "iopub.execute_input": "2023-11-28T13:28:47.892046Z",
     "iopub.status.busy": "2023-11-28T13:28:47.891143Z",
     "iopub.status.idle": "2023-11-28T13:28:47.901344Z",
     "shell.execute_reply": "2023-11-28T13:28:47.900640Z",
     "shell.execute_reply.started": "2023-11-28T13:15:10.633243Z"
    },
    "papermill": {
     "duration": 0.069966,
     "end_time": "2023-11-28T13:28:47.901506",
     "exception": false,
     "start_time": "2023-11-28T13:28:47.831540",
     "status": "completed"
    },
    "tags": []
   },
   "outputs": [
    {
     "data": {
      "text/plain": [
       "0         2019-03-01 08:01:55.9750\n",
       "1         2019-03-01 06:42:03.0560\n",
       "2         2019-03-01 05:24:08.1460\n",
       "3         2019-03-01 04:02:36.8420\n",
       "4         2019-03-01 00:20:44.0740\n",
       "                    ...           \n",
       "183407    2019-02-01 00:12:50.0340\n",
       "183408    2019-02-01 00:10:48.5020\n",
       "183409    2019-02-01 00:08:27.2200\n",
       "183410    2019-02-01 00:07:54.2870\n",
       "183411    2019-02-01 00:04:52.0580\n",
       "Name: end_time, Length: 183412, dtype: object"
      ]
     },
     "execution_count": 7,
     "metadata": {},
     "output_type": "execute_result"
    }
   ],
   "source": [
    "df[\"start_time\"]\n",
    "df[\"end_time\"]\n",
    "# this needs to be adjusted to date time data type"
   ]
  },
  {
   "cell_type": "markdown",
   "id": "copyrighted-context",
   "metadata": {
    "papermill": {
     "duration": 0.059681,
     "end_time": "2023-11-28T13:28:48.022743",
     "exception": false,
     "start_time": "2023-11-28T13:28:47.963062",
     "status": "completed"
    },
    "tags": []
   },
   "source": [
    "\n",
    "#### **preparing the data**"
   ]
  },
  {
   "cell_type": "code",
   "execution_count": 8,
   "id": "female-hardware",
   "metadata": {
    "execution": {
     "iopub.execute_input": "2023-11-28T13:28:48.221923Z",
     "iopub.status.busy": "2023-11-28T13:28:48.221126Z",
     "iopub.status.idle": "2023-11-28T13:28:48.335049Z",
     "shell.execute_reply": "2023-11-28T13:28:48.334283Z",
     "shell.execute_reply.started": "2023-11-28T13:15:10.647748Z"
    },
    "papermill": {
     "duration": 0.251708,
     "end_time": "2023-11-28T13:28:48.335225",
     "exception": false,
     "start_time": "2023-11-28T13:28:48.083517",
     "status": "completed"
    },
    "tags": []
   },
   "outputs": [],
   "source": [
    "# change the start and end time into a datetime data type\n",
    "df['start_time'] = pd.to_datetime(df['start_time'])\n",
    "df['end_time'] = pd.to_datetime(df['end_time'])"
   ]
  },
  {
   "cell_type": "code",
   "execution_count": 9,
   "id": "abstract-cylinder",
   "metadata": {
    "execution": {
     "iopub.execute_input": "2023-11-28T13:28:48.457214Z",
     "iopub.status.busy": "2023-11-28T13:28:48.456385Z",
     "iopub.status.idle": "2023-11-28T13:28:48.574102Z",
     "shell.execute_reply": "2023-11-28T13:28:48.573476Z",
     "shell.execute_reply.started": "2023-11-28T13:15:10.861842Z"
    },
    "papermill": {
     "duration": 0.181067,
     "end_time": "2023-11-28T13:28:48.574268",
     "exception": false,
     "start_time": "2023-11-28T13:28:48.393201",
     "status": "completed"
    },
    "tags": []
   },
   "outputs": [
    {
     "name": "stdout",
     "output_type": "stream",
     "text": [
      "<class 'pandas.core.frame.DataFrame'>\n",
      "RangeIndex: 183412 entries, 0 to 183411\n",
      "Data columns (total 16 columns):\n",
      " #   Column                   Non-Null Count   Dtype         \n",
      "---  ------                   --------------   -----         \n",
      " 0   duration_sec             183412 non-null  int64         \n",
      " 1   start_time               183412 non-null  datetime64[ns]\n",
      " 2   end_time                 183412 non-null  datetime64[ns]\n",
      " 3   start_station_id         183215 non-null  float64       \n",
      " 4   start_station_name       183215 non-null  object        \n",
      " 5   start_station_latitude   183412 non-null  float64       \n",
      " 6   start_station_longitude  183412 non-null  float64       \n",
      " 7   end_station_id           183215 non-null  float64       \n",
      " 8   end_station_name         183215 non-null  object        \n",
      " 9   end_station_latitude     183412 non-null  float64       \n",
      " 10  end_station_longitude    183412 non-null  float64       \n",
      " 11  bike_id                  183412 non-null  int64         \n",
      " 12  user_type                183412 non-null  object        \n",
      " 13  member_birth_year        175147 non-null  float64       \n",
      " 14  member_gender            175147 non-null  object        \n",
      " 15  bike_share_for_all_trip  183412 non-null  object        \n",
      "dtypes: datetime64[ns](2), float64(7), int64(2), object(5)\n",
      "memory usage: 22.4+ MB\n"
     ]
    }
   ],
   "source": [
    "df.info()"
   ]
  },
  {
   "cell_type": "code",
   "execution_count": 10,
   "id": "genetic-curve",
   "metadata": {
    "execution": {
     "iopub.execute_input": "2023-11-28T13:28:48.710565Z",
     "iopub.status.busy": "2023-11-28T13:28:48.709520Z",
     "iopub.status.idle": "2023-11-28T13:28:48.720306Z",
     "shell.execute_reply": "2023-11-28T13:28:48.719694Z",
     "shell.execute_reply.started": "2023-11-28T13:15:10.982901Z"
    },
    "papermill": {
     "duration": 0.088385,
     "end_time": "2023-11-28T13:28:48.720471",
     "exception": false,
     "start_time": "2023-11-28T13:28:48.632086",
     "status": "completed"
    },
    "tags": []
   },
   "outputs": [
    {
     "data": {
      "text/plain": [
       "array(['Customer', 'Subscriber'], dtype=object)"
      ]
     },
     "execution_count": 10,
     "metadata": {},
     "output_type": "execute_result"
    }
   ],
   "source": [
    "df['user_type'].unique() #this should be a category"
   ]
  },
  {
   "cell_type": "code",
   "execution_count": 11,
   "id": "amber-james",
   "metadata": {
    "execution": {
     "iopub.execute_input": "2023-11-28T13:28:48.867879Z",
     "iopub.status.busy": "2023-11-28T13:28:48.850306Z",
     "iopub.status.idle": "2023-11-28T13:28:48.871761Z",
     "shell.execute_reply": "2023-11-28T13:28:48.872343Z",
     "shell.execute_reply.started": "2023-11-28T13:15:11.015612Z"
    },
    "papermill": {
     "duration": 0.093255,
     "end_time": "2023-11-28T13:28:48.872541",
     "exception": false,
     "start_time": "2023-11-28T13:28:48.779286",
     "status": "completed"
    },
    "tags": []
   },
   "outputs": [
    {
     "data": {
      "text/plain": [
       "array(['Male', nan, 'Other', 'Female'], dtype=object)"
      ]
     },
     "execution_count": 11,
     "metadata": {},
     "output_type": "execute_result"
    }
   ],
   "source": [
    "df['member_gender'].unique() #also this should be category"
   ]
  },
  {
   "cell_type": "code",
   "execution_count": 12,
   "id": "objective-sheffield",
   "metadata": {
    "execution": {
     "iopub.execute_input": "2023-11-28T13:28:49.004094Z",
     "iopub.status.busy": "2023-11-28T13:28:49.003086Z",
     "iopub.status.idle": "2023-11-28T13:28:49.069156Z",
     "shell.execute_reply": "2023-11-28T13:28:49.068503Z",
     "shell.execute_reply.started": "2023-11-28T13:15:11.049630Z"
    },
    "papermill": {
     "duration": 0.137207,
     "end_time": "2023-11-28T13:28:49.069341",
     "exception": false,
     "start_time": "2023-11-28T13:28:48.932134",
     "status": "completed"
    },
    "tags": []
   },
   "outputs": [],
   "source": [
    "df['user_type'] = df['user_type'].astype('category')\n",
    "df['member_gender'] = df['member_gender'].astype('category')"
   ]
  },
  {
   "cell_type": "code",
   "execution_count": 13,
   "id": "injured-consciousness",
   "metadata": {
    "execution": {
     "iopub.execute_input": "2023-11-28T13:28:49.194386Z",
     "iopub.status.busy": "2023-11-28T13:28:49.193481Z",
     "iopub.status.idle": "2023-11-28T13:28:49.278557Z",
     "shell.execute_reply": "2023-11-28T13:28:49.277334Z",
     "shell.execute_reply.started": "2023-11-28T13:15:11.128298Z"
    },
    "papermill": {
     "duration": 0.150151,
     "end_time": "2023-11-28T13:28:49.278758",
     "exception": false,
     "start_time": "2023-11-28T13:28:49.128607",
     "status": "completed"
    },
    "tags": []
   },
   "outputs": [
    {
     "name": "stdout",
     "output_type": "stream",
     "text": [
      "<class 'pandas.core.frame.DataFrame'>\n",
      "RangeIndex: 183412 entries, 0 to 183411\n",
      "Data columns (total 16 columns):\n",
      " #   Column                   Non-Null Count   Dtype         \n",
      "---  ------                   --------------   -----         \n",
      " 0   duration_sec             183412 non-null  int64         \n",
      " 1   start_time               183412 non-null  datetime64[ns]\n",
      " 2   end_time                 183412 non-null  datetime64[ns]\n",
      " 3   start_station_id         183215 non-null  float64       \n",
      " 4   start_station_name       183215 non-null  object        \n",
      " 5   start_station_latitude   183412 non-null  float64       \n",
      " 6   start_station_longitude  183412 non-null  float64       \n",
      " 7   end_station_id           183215 non-null  float64       \n",
      " 8   end_station_name         183215 non-null  object        \n",
      " 9   end_station_latitude     183412 non-null  float64       \n",
      " 10  end_station_longitude    183412 non-null  float64       \n",
      " 11  bike_id                  183412 non-null  int64         \n",
      " 12  user_type                183412 non-null  category      \n",
      " 13  member_birth_year        175147 non-null  float64       \n",
      " 14  member_gender            175147 non-null  category      \n",
      " 15  bike_share_for_all_trip  183412 non-null  object        \n",
      "dtypes: category(2), datetime64[ns](2), float64(7), int64(2), object(3)\n",
      "memory usage: 19.9+ MB\n"
     ]
    }
   ],
   "source": [
    "df.info()"
   ]
  },
  {
   "cell_type": "markdown",
   "id": "danish-assessment",
   "metadata": {
    "papermill": {
     "duration": 0.061403,
     "end_time": "2023-11-28T13:28:49.400561",
     "exception": false,
     "start_time": "2023-11-28T13:28:49.339158",
     "status": "completed"
    },
    "tags": []
   },
   "source": []
  },
  {
   "cell_type": "markdown",
   "id": "smart-attempt",
   "metadata": {
    "papermill": {
     "duration": 0.060995,
     "end_time": "2023-11-28T13:28:49.521723",
     "exception": false,
     "start_time": "2023-11-28T13:28:49.460728",
     "status": "completed"
    },
    "tags": []
   },
   "source": [
    "#### **try to extract the month and the day of the start date**"
   ]
  },
  {
   "cell_type": "code",
   "execution_count": 14,
   "id": "regular-sound",
   "metadata": {
    "execution": {
     "iopub.execute_input": "2023-11-28T13:28:49.665999Z",
     "iopub.status.busy": "2023-11-28T13:28:49.665254Z",
     "iopub.status.idle": "2023-11-28T13:28:54.176188Z",
     "shell.execute_reply": "2023-11-28T13:28:54.174536Z",
     "shell.execute_reply.started": "2023-11-28T13:15:11.218201Z"
    },
    "papermill": {
     "duration": 4.579522,
     "end_time": "2023-11-28T13:28:54.176509",
     "exception": false,
     "start_time": "2023-11-28T13:28:49.596987",
     "status": "completed"
    },
    "tags": []
   },
   "outputs": [],
   "source": [
    "df['start_month'] = df.start_time.dt.strftime('%B')\n",
    "df['start_day'] = df.start_time.dt.strftime('%A')\n",
    "df['start_hour'] = df.start_time.dt.strftime('%H')\n",
    "\n"
   ]
  },
  {
   "cell_type": "markdown",
   "id": "caroline-explosion",
   "metadata": {
    "papermill": {
     "duration": 0.066733,
     "end_time": "2023-11-28T13:28:54.308705",
     "exception": false,
     "start_time": "2023-11-28T13:28:54.241972",
     "status": "completed"
    },
    "tags": []
   },
   "source": [
    "#### **change the duration into minutes to fit the start time format**"
   ]
  },
  {
   "cell_type": "code",
   "execution_count": 15,
   "id": "english-register",
   "metadata": {
    "execution": {
     "iopub.execute_input": "2023-11-28T13:28:54.440583Z",
     "iopub.status.busy": "2023-11-28T13:28:54.439639Z",
     "iopub.status.idle": "2023-11-28T13:28:54.478394Z",
     "shell.execute_reply": "2023-11-28T13:28:54.479162Z",
     "shell.execute_reply.started": "2023-11-28T13:15:15.705345Z"
    },
    "papermill": {
     "duration": 0.109547,
     "end_time": "2023-11-28T13:28:54.479419",
     "exception": false,
     "start_time": "2023-11-28T13:28:54.369872",
     "status": "completed"
    },
    "tags": []
   },
   "outputs": [],
   "source": [
    "df['duration_min'] = df['duration_sec']/(60)"
   ]
  },
  {
   "cell_type": "code",
   "execution_count": 16,
   "id": "frequent-characteristic",
   "metadata": {
    "execution": {
     "iopub.execute_input": "2023-11-28T13:28:54.615615Z",
     "iopub.status.busy": "2023-11-28T13:28:54.614584Z",
     "iopub.status.idle": "2023-11-28T13:28:54.655602Z",
     "shell.execute_reply": "2023-11-28T13:28:54.656432Z",
     "shell.execute_reply.started": "2023-11-28T13:15:15.733848Z"
    },
    "papermill": {
     "duration": 0.111258,
     "end_time": "2023-11-28T13:28:54.656717",
     "exception": false,
     "start_time": "2023-11-28T13:28:54.545459",
     "status": "completed"
    },
    "tags": []
   },
   "outputs": [
    {
     "data": {
      "text/html": [
       "<div>\n",
       "<style scoped>\n",
       "    .dataframe tbody tr th:only-of-type {\n",
       "        vertical-align: middle;\n",
       "    }\n",
       "\n",
       "    .dataframe tbody tr th {\n",
       "        vertical-align: top;\n",
       "    }\n",
       "\n",
       "    .dataframe thead th {\n",
       "        text-align: right;\n",
       "    }\n",
       "</style>\n",
       "<table border=\"1\" class=\"dataframe\">\n",
       "  <thead>\n",
       "    <tr style=\"text-align: right;\">\n",
       "      <th></th>\n",
       "      <th>duration_sec</th>\n",
       "      <th>start_time</th>\n",
       "      <th>end_time</th>\n",
       "      <th>start_station_id</th>\n",
       "      <th>start_station_name</th>\n",
       "      <th>start_station_latitude</th>\n",
       "      <th>start_station_longitude</th>\n",
       "      <th>end_station_id</th>\n",
       "      <th>end_station_name</th>\n",
       "      <th>end_station_latitude</th>\n",
       "      <th>end_station_longitude</th>\n",
       "      <th>bike_id</th>\n",
       "      <th>user_type</th>\n",
       "      <th>member_birth_year</th>\n",
       "      <th>member_gender</th>\n",
       "      <th>bike_share_for_all_trip</th>\n",
       "      <th>start_month</th>\n",
       "      <th>start_day</th>\n",
       "      <th>start_hour</th>\n",
       "      <th>duration_min</th>\n",
       "    </tr>\n",
       "  </thead>\n",
       "  <tbody>\n",
       "    <tr>\n",
       "      <th>0</th>\n",
       "      <td>52185</td>\n",
       "      <td>2019-02-28 17:32:10.145</td>\n",
       "      <td>2019-03-01 08:01:55.975</td>\n",
       "      <td>21.0</td>\n",
       "      <td>Montgomery St BART Station (Market St at 2nd St)</td>\n",
       "      <td>37.789625</td>\n",
       "      <td>-122.400811</td>\n",
       "      <td>13.0</td>\n",
       "      <td>Commercial St at Montgomery St</td>\n",
       "      <td>37.794231</td>\n",
       "      <td>-122.402923</td>\n",
       "      <td>4902</td>\n",
       "      <td>Customer</td>\n",
       "      <td>1984.0</td>\n",
       "      <td>Male</td>\n",
       "      <td>No</td>\n",
       "      <td>February</td>\n",
       "      <td>Thursday</td>\n",
       "      <td>17</td>\n",
       "      <td>869.750000</td>\n",
       "    </tr>\n",
       "    <tr>\n",
       "      <th>1</th>\n",
       "      <td>42521</td>\n",
       "      <td>2019-02-28 18:53:21.789</td>\n",
       "      <td>2019-03-01 06:42:03.056</td>\n",
       "      <td>23.0</td>\n",
       "      <td>The Embarcadero at Steuart St</td>\n",
       "      <td>37.791464</td>\n",
       "      <td>-122.391034</td>\n",
       "      <td>81.0</td>\n",
       "      <td>Berry St at 4th St</td>\n",
       "      <td>37.775880</td>\n",
       "      <td>-122.393170</td>\n",
       "      <td>2535</td>\n",
       "      <td>Customer</td>\n",
       "      <td>NaN</td>\n",
       "      <td>NaN</td>\n",
       "      <td>No</td>\n",
       "      <td>February</td>\n",
       "      <td>Thursday</td>\n",
       "      <td>18</td>\n",
       "      <td>708.683333</td>\n",
       "    </tr>\n",
       "    <tr>\n",
       "      <th>2</th>\n",
       "      <td>61854</td>\n",
       "      <td>2019-02-28 12:13:13.218</td>\n",
       "      <td>2019-03-01 05:24:08.146</td>\n",
       "      <td>86.0</td>\n",
       "      <td>Market St at Dolores St</td>\n",
       "      <td>37.769305</td>\n",
       "      <td>-122.426826</td>\n",
       "      <td>3.0</td>\n",
       "      <td>Powell St BART Station (Market St at 4th St)</td>\n",
       "      <td>37.786375</td>\n",
       "      <td>-122.404904</td>\n",
       "      <td>5905</td>\n",
       "      <td>Customer</td>\n",
       "      <td>1972.0</td>\n",
       "      <td>Male</td>\n",
       "      <td>No</td>\n",
       "      <td>February</td>\n",
       "      <td>Thursday</td>\n",
       "      <td>12</td>\n",
       "      <td>1030.900000</td>\n",
       "    </tr>\n",
       "    <tr>\n",
       "      <th>3</th>\n",
       "      <td>36490</td>\n",
       "      <td>2019-02-28 17:54:26.010</td>\n",
       "      <td>2019-03-01 04:02:36.842</td>\n",
       "      <td>375.0</td>\n",
       "      <td>Grove St at Masonic Ave</td>\n",
       "      <td>37.774836</td>\n",
       "      <td>-122.446546</td>\n",
       "      <td>70.0</td>\n",
       "      <td>Central Ave at Fell St</td>\n",
       "      <td>37.773311</td>\n",
       "      <td>-122.444293</td>\n",
       "      <td>6638</td>\n",
       "      <td>Subscriber</td>\n",
       "      <td>1989.0</td>\n",
       "      <td>Other</td>\n",
       "      <td>No</td>\n",
       "      <td>February</td>\n",
       "      <td>Thursday</td>\n",
       "      <td>17</td>\n",
       "      <td>608.166667</td>\n",
       "    </tr>\n",
       "    <tr>\n",
       "      <th>4</th>\n",
       "      <td>1585</td>\n",
       "      <td>2019-02-28 23:54:18.549</td>\n",
       "      <td>2019-03-01 00:20:44.074</td>\n",
       "      <td>7.0</td>\n",
       "      <td>Frank H Ogawa Plaza</td>\n",
       "      <td>37.804562</td>\n",
       "      <td>-122.271738</td>\n",
       "      <td>222.0</td>\n",
       "      <td>10th Ave at E 15th St</td>\n",
       "      <td>37.792714</td>\n",
       "      <td>-122.248780</td>\n",
       "      <td>4898</td>\n",
       "      <td>Subscriber</td>\n",
       "      <td>1974.0</td>\n",
       "      <td>Male</td>\n",
       "      <td>Yes</td>\n",
       "      <td>February</td>\n",
       "      <td>Thursday</td>\n",
       "      <td>23</td>\n",
       "      <td>26.416667</td>\n",
       "    </tr>\n",
       "  </tbody>\n",
       "</table>\n",
       "</div>"
      ],
      "text/plain": [
       "   duration_sec              start_time                end_time  \\\n",
       "0         52185 2019-02-28 17:32:10.145 2019-03-01 08:01:55.975   \n",
       "1         42521 2019-02-28 18:53:21.789 2019-03-01 06:42:03.056   \n",
       "2         61854 2019-02-28 12:13:13.218 2019-03-01 05:24:08.146   \n",
       "3         36490 2019-02-28 17:54:26.010 2019-03-01 04:02:36.842   \n",
       "4          1585 2019-02-28 23:54:18.549 2019-03-01 00:20:44.074   \n",
       "\n",
       "   start_station_id                                start_station_name  \\\n",
       "0              21.0  Montgomery St BART Station (Market St at 2nd St)   \n",
       "1              23.0                     The Embarcadero at Steuart St   \n",
       "2              86.0                           Market St at Dolores St   \n",
       "3             375.0                           Grove St at Masonic Ave   \n",
       "4               7.0                               Frank H Ogawa Plaza   \n",
       "\n",
       "   start_station_latitude  start_station_longitude  end_station_id  \\\n",
       "0               37.789625              -122.400811            13.0   \n",
       "1               37.791464              -122.391034            81.0   \n",
       "2               37.769305              -122.426826             3.0   \n",
       "3               37.774836              -122.446546            70.0   \n",
       "4               37.804562              -122.271738           222.0   \n",
       "\n",
       "                               end_station_name  end_station_latitude  \\\n",
       "0                Commercial St at Montgomery St             37.794231   \n",
       "1                            Berry St at 4th St             37.775880   \n",
       "2  Powell St BART Station (Market St at 4th St)             37.786375   \n",
       "3                        Central Ave at Fell St             37.773311   \n",
       "4                         10th Ave at E 15th St             37.792714   \n",
       "\n",
       "   end_station_longitude  bike_id   user_type  member_birth_year  \\\n",
       "0            -122.402923     4902    Customer             1984.0   \n",
       "1            -122.393170     2535    Customer                NaN   \n",
       "2            -122.404904     5905    Customer             1972.0   \n",
       "3            -122.444293     6638  Subscriber             1989.0   \n",
       "4            -122.248780     4898  Subscriber             1974.0   \n",
       "\n",
       "  member_gender bike_share_for_all_trip start_month start_day start_hour  \\\n",
       "0          Male                      No    February  Thursday         17   \n",
       "1           NaN                      No    February  Thursday         18   \n",
       "2          Male                      No    February  Thursday         12   \n",
       "3         Other                      No    February  Thursday         17   \n",
       "4          Male                     Yes    February  Thursday         23   \n",
       "\n",
       "   duration_min  \n",
       "0    869.750000  \n",
       "1    708.683333  \n",
       "2   1030.900000  \n",
       "3    608.166667  \n",
       "4     26.416667  "
      ]
     },
     "execution_count": 16,
     "metadata": {},
     "output_type": "execute_result"
    }
   ],
   "source": [
    "df.head(5)"
   ]
  },
  {
   "cell_type": "markdown",
   "id": "close-party",
   "metadata": {
    "papermill": {
     "duration": 0.066328,
     "end_time": "2023-11-28T13:28:54.784812",
     "exception": false,
     "start_time": "2023-11-28T13:28:54.718484",
     "status": "completed"
    },
    "tags": []
   },
   "source": [
    "**Try to extract the age of the clients using the member birth year**"
   ]
  },
  {
   "cell_type": "code",
   "execution_count": 17,
   "id": "difficult-tournament",
   "metadata": {
    "execution": {
     "iopub.execute_input": "2023-11-28T13:28:54.914216Z",
     "iopub.status.busy": "2023-11-28T13:28:54.913182Z",
     "iopub.status.idle": "2023-11-28T13:28:54.924393Z",
     "shell.execute_reply": "2023-11-28T13:28:54.925159Z",
     "shell.execute_reply.started": "2023-11-28T13:15:15.771364Z"
    },
    "papermill": {
     "duration": 0.078576,
     "end_time": "2023-11-28T13:28:54.925429",
     "exception": false,
     "start_time": "2023-11-28T13:28:54.846853",
     "status": "completed"
    },
    "tags": []
   },
   "outputs": [],
   "source": [
    "df['member_age'] = (2019) - df['member_birth_year'] #giving the data was pupliched in 2019"
   ]
  },
  {
   "cell_type": "markdown",
   "id": "needed-walter",
   "metadata": {
    "papermill": {
     "duration": 0.060393,
     "end_time": "2023-11-28T13:28:55.051374",
     "exception": false,
     "start_time": "2023-11-28T13:28:54.990981",
     "status": "completed"
    },
    "tags": []
   },
   "source": [
    "**the main dataset consists of 183412 customer and has also 16 columns, gathering data about the location of the trip start and start date and the duration of the trip and also information about the clients like gender and age**"
   ]
  },
  {
   "cell_type": "markdown",
   "id": "prepared-titanium",
   "metadata": {
    "papermill": {
     "duration": 0.059134,
     "end_time": "2023-11-28T13:28:55.171176",
     "exception": false,
     "start_time": "2023-11-28T13:28:55.112042",
     "status": "completed"
    },
    "tags": []
   },
   "source": [
    "## **Data overview**"
   ]
  },
  {
   "cell_type": "markdown",
   "id": "tough-collect",
   "metadata": {
    "papermill": {
     "duration": 0.058938,
     "end_time": "2023-11-28T13:28:55.289967",
     "exception": false,
     "start_time": "2023-11-28T13:28:55.231029",
     "status": "completed"
    },
    "tags": []
   },
   "source": [
    "**for me analysis here i am interested only in some columns like the start time and duration to explore the trips times and also intersted in the info about the clients to see the relation between the different charchterisitics of the clients and their renting patterns**"
   ]
  },
  {
   "cell_type": "markdown",
   "id": "correct-market",
   "metadata": {
    "papermill": {
     "duration": 0.060809,
     "end_time": "2023-11-28T13:28:55.410132",
     "exception": false,
     "start_time": "2023-11-28T13:28:55.349323",
     "status": "completed"
    },
    "tags": []
   },
   "source": [
    "## Univariate analysis"
   ]
  },
  {
   "cell_type": "markdown",
   "id": "primary-handling",
   "metadata": {
    "papermill": {
     "duration": 0.060843,
     "end_time": "2023-11-28T13:28:55.530985",
     "exception": false,
     "start_time": "2023-11-28T13:28:55.470142",
     "status": "completed"
    },
    "tags": []
   },
   "source": [
    "### **lets see which day of the week , we have the most clients**"
   ]
  },
  {
   "cell_type": "code",
   "execution_count": 18,
   "id": "general-dealer",
   "metadata": {
    "execution": {
     "iopub.execute_input": "2023-11-28T13:28:55.691724Z",
     "iopub.status.busy": "2023-11-28T13:28:55.677856Z",
     "iopub.status.idle": "2023-11-28T13:28:56.141910Z",
     "shell.execute_reply": "2023-11-28T13:28:56.141138Z",
     "shell.execute_reply.started": "2023-11-28T13:15:15.783390Z"
    },
    "papermill": {
     "duration": 0.551444,
     "end_time": "2023-11-28T13:28:56.142074",
     "exception": false,
     "start_time": "2023-11-28T13:28:55.590630",
     "status": "completed"
    },
    "tags": []
   },
   "outputs": [
    {
     "data": {
      "text/plain": [
       "Text(0.5, 1.0, \"distribution of the platform's usage through the week\")"
      ]
     },
     "execution_count": 18,
     "metadata": {},
     "output_type": "execute_result"
    },
    {
     "data": {
      "image/png": "[encoded data removed]",
      "text/plain": [
       "<Figure size 432x288 with 1 Axes>"
      ]
     },
     "metadata": {
      "needs_background": "light"
     },
     "output_type": "display_data"
    }
   ],
   "source": [
    "sb.countplot(data=df, x='start_day', color=sb.color_palette('colorblind')[0]);\n",
    "plt.xlabel('Trip Start Day of Week');\n",
    "plt.ylabel('Count');\n",
    "plt.xticks(rotation = 15)\n",
    "plt.title(\"distribution of the platform's usage through the week\")"
   ]
  },
  {
   "cell_type": "markdown",
   "id": "communist-median",
   "metadata": {
    "papermill": {
     "duration": 0.062633,
     "end_time": "2023-11-28T13:28:56.267146",
     "exception": false,
     "start_time": "2023-11-28T13:28:56.204513",
     "status": "completed"
    },
    "tags": []
   },
   "source": []
  },
  {
   "cell_type": "code",
   "execution_count": 19,
   "id": "foster-barcelona",
   "metadata": {
    "execution": {
     "iopub.execute_input": "2023-11-28T13:28:56.395522Z",
     "iopub.status.busy": "2023-11-28T13:28:56.394720Z",
     "iopub.status.idle": "2023-11-28T13:28:56.430407Z",
     "shell.execute_reply": "2023-11-28T13:28:56.429769Z",
     "shell.execute_reply.started": "2023-11-28T13:15:16.272760Z"
    },
    "papermill": {
     "duration": 0.100569,
     "end_time": "2023-11-28T13:28:56.430597",
     "exception": false,
     "start_time": "2023-11-28T13:28:56.330028",
     "status": "completed"
    },
    "tags": []
   },
   "outputs": [],
   "source": [
    "#to get the days arranged and ordered we gonna do the following steps\n",
    "days = ['Monday', 'Tuesday', 'Wednesday', 'Thursday', 'Friday', 'Saturday', 'Sunday']\n",
    "days_category = pd.api.types.CategoricalDtype(ordered = True, categories = days)\n",
    "df[\"start_day\"] = df[\"start_day\"].astype(days_category)"
   ]
  },
  {
   "cell_type": "code",
   "execution_count": 20,
   "id": "daily-briefing",
   "metadata": {
    "execution": {
     "iopub.execute_input": "2023-11-28T13:28:56.563237Z",
     "iopub.status.busy": "2023-11-28T13:28:56.562125Z",
     "iopub.status.idle": "2023-11-28T13:28:56.792744Z",
     "shell.execute_reply": "2023-11-28T13:28:56.793306Z",
     "shell.execute_reply.started": "2023-11-28T13:15:16.312620Z"
    },
    "papermill": {
     "duration": 0.300992,
     "end_time": "2023-11-28T13:28:56.793512",
     "exception": false,
     "start_time": "2023-11-28T13:28:56.492520",
     "status": "completed"
    },
    "tags": []
   },
   "outputs": [
    {
     "data": {
      "image/png": "[encoded data removed]",
      "text/plain": [
       "<Figure size 1080x648 with 1 Axes>"
      ]
     },
     "metadata": {
      "needs_background": "light"
     },
     "output_type": "display_data"
    }
   ],
   "source": [
    "plt.rcParams['figure.figsize'] = 15, 9\n",
    "sb.countplot(data=df, x='start_day', color=sb.color_palette()[0]);\n",
    "plt.xlabel('Start Day of the trip');\n",
    "plt.ylabel(\"Frequency\");\n",
    "plt.title(\"distribution of the platform's usage through the week\");"
   ]
  },
  {
   "cell_type": "markdown",
   "id": "matched-vegetation",
   "metadata": {
    "papermill": {
     "duration": 0.061657,
     "end_time": "2023-11-28T13:28:56.918808",
     "exception": false,
     "start_time": "2023-11-28T13:28:56.857151",
     "status": "completed"
    },
    "tags": []
   },
   "source": [
    "**top 2 days are tuesday and thrusday**"
   ]
  },
  {
   "cell_type": "markdown",
   "id": "architectural-gambling",
   "metadata": {
    "papermill": {
     "duration": 0.064214,
     "end_time": "2023-11-28T13:28:57.045266",
     "exception": false,
     "start_time": "2023-11-28T13:28:56.981052",
     "status": "completed"
    },
    "tags": []
   },
   "source": [
    "### **lets explore the ruch hours in the day in which we got the most of our clients**"
   ]
  },
  {
   "cell_type": "code",
   "execution_count": 21,
   "id": "israeli-peace",
   "metadata": {
    "execution": {
     "iopub.execute_input": "2023-11-28T13:28:57.175258Z",
     "iopub.status.busy": "2023-11-28T13:28:57.174149Z",
     "iopub.status.idle": "2023-11-28T13:28:57.770455Z",
     "shell.execute_reply": "2023-11-28T13:28:57.769346Z",
     "shell.execute_reply.started": "2023-11-28T13:15:16.554380Z"
    },
    "papermill": {
     "duration": 0.662297,
     "end_time": "2023-11-28T13:28:57.770652",
     "exception": false,
     "start_time": "2023-11-28T13:28:57.108355",
     "status": "completed"
    },
    "tags": []
   },
   "outputs": [
    {
     "data": {
      "text/plain": [
       "Text(0.5, 1.0, \"distribution of the platform's usage through the day\")"
      ]
     },
     "execution_count": 21,
     "metadata": {},
     "output_type": "execute_result"
    },
    {
     "data": {
      "image/png": "[encoded data removed]",
      "text/plain": [
       "<Figure size 1080x648 with 1 Axes>"
      ]
     },
     "metadata": {
      "needs_background": "light"
     },
     "output_type": "display_data"
    }
   ],
   "source": [
    "sb.countplot(data=df, x='start_hour', color=sb.color_palette()[0]);\n",
    "plt.xlabel('The start hour of the trip');\n",
    "plt.ylabel('Frequency');\n",
    "plt.title(\"distribution of the platform's usage through the day\")"
   ]
  },
  {
   "cell_type": "markdown",
   "id": "hearing-possession",
   "metadata": {
    "papermill": {
     "duration": 0.064398,
     "end_time": "2023-11-28T13:28:57.900227",
     "exception": false,
     "start_time": "2023-11-28T13:28:57.835829",
     "status": "completed"
    },
    "tags": []
   },
   "source": [
    "**rush hours are between 16 and 18 and also from 7 to 9**"
   ]
  },
  {
   "cell_type": "markdown",
   "id": "dated-census",
   "metadata": {
    "papermill": {
     "duration": 0.066937,
     "end_time": "2023-11-28T13:28:58.032058",
     "exception": false,
     "start_time": "2023-11-28T13:28:57.965121",
     "status": "completed"
    },
    "tags": []
   },
   "source": [
    "### **lets see the value of customers to the subscribers**"
   ]
  },
  {
   "cell_type": "code",
   "execution_count": 22,
   "id": "transparent-summer",
   "metadata": {
    "execution": {
     "iopub.execute_input": "2023-11-28T13:28:58.169601Z",
     "iopub.status.busy": "2023-11-28T13:28:58.168851Z",
     "iopub.status.idle": "2023-11-28T13:28:58.309484Z",
     "shell.execute_reply": "2023-11-28T13:28:58.310414Z",
     "shell.execute_reply.started": "2023-11-28T13:15:17.140295Z"
    },
    "papermill": {
     "duration": 0.212622,
     "end_time": "2023-11-28T13:28:58.310632",
     "exception": false,
     "start_time": "2023-11-28T13:28:58.098010",
     "status": "completed"
    },
    "tags": []
   },
   "outputs": [
    {
     "data": {
      "image/png": "[encoded data removed]",
      "text/plain": [
       "<Figure size 1080x648 with 1 Axes>"
      ]
     },
     "metadata": {},
     "output_type": "display_data"
    }
   ],
   "source": [
    "plt.pie(df[\"user_type\"].value_counts(), labels = [\"subscriber\",\"cutomer\"]);\n",
    "plt.title(\"distribution of the platform's user types\");"
   ]
  },
  {
   "cell_type": "markdown",
   "id": "infinite-feature",
   "metadata": {
    "papermill": {
     "duration": 0.066172,
     "end_time": "2023-11-28T13:28:58.444143",
     "exception": false,
     "start_time": "2023-11-28T13:28:58.377971",
     "status": "completed"
    },
    "tags": []
   },
   "source": [
    "**most of the users are subscribers**"
   ]
  },
  {
   "cell_type": "markdown",
   "id": "raised-basic",
   "metadata": {
    "papermill": {
     "duration": 0.067443,
     "end_time": "2023-11-28T13:28:58.578451",
     "exception": false,
     "start_time": "2023-11-28T13:28:58.511008",
     "status": "completed"
    },
    "tags": []
   },
   "source": [
    "## **Multivariate Analysis**"
   ]
  },
  {
   "cell_type": "markdown",
   "id": "dependent-century",
   "metadata": {
    "papermill": {
     "duration": 0.067531,
     "end_time": "2023-11-28T13:28:58.712110",
     "exception": false,
     "start_time": "2023-11-28T13:28:58.644579",
     "status": "completed"
    },
    "tags": []
   },
   "source": [
    "**lets the relation between the gender and the duration of the trip**"
   ]
  },
  {
   "cell_type": "code",
   "execution_count": 23,
   "id": "worth-southwest",
   "metadata": {
    "execution": {
     "iopub.execute_input": "2023-11-28T13:28:58.853742Z",
     "iopub.status.busy": "2023-11-28T13:28:58.852489Z",
     "iopub.status.idle": "2023-11-28T13:28:59.685011Z",
     "shell.execute_reply": "2023-11-28T13:28:59.684106Z",
     "shell.execute_reply.started": "2023-11-28T13:15:17.284106Z"
    },
    "papermill": {
     "duration": 0.906877,
     "end_time": "2023-11-28T13:28:59.685218",
     "exception": false,
     "start_time": "2023-11-28T13:28:58.778341",
     "status": "completed"
    },
    "tags": []
   },
   "outputs": [
    {
     "data": {
      "image/png": "[encoded data removed]",
      "text/plain": [
       "<Figure size 1080x648 with 1 Axes>"
      ]
     },
     "metadata": {
      "needs_background": "light"
     },
     "output_type": "display_data"
    }
   ],
   "source": [
    "sb.violinplot(data=df, x='member_gender', y='duration_min', color=sb.color_palette()[0], inner='quartile');\n",
    "plt.xlabel('Gneder');\n",
    "plt.ylabel('Duration in minutes(Min)');"
   ]
  },
  {
   "cell_type": "markdown",
   "id": "expressed-ireland",
   "metadata": {
    "papermill": {
     "duration": 0.070575,
     "end_time": "2023-11-28T13:28:59.825474",
     "exception": false,
     "start_time": "2023-11-28T13:28:59.754899",
     "status": "completed"
    },
    "tags": []
   },
   "source": [
    "**we can see the effect of outliers in the duration vilon plot but the average of both male and female are nearly the same**"
   ]
  },
  {
   "cell_type": "markdown",
   "id": "failing-fraction",
   "metadata": {
    "papermill": {
     "duration": 0.068221,
     "end_time": "2023-11-28T13:28:59.962827",
     "exception": false,
     "start_time": "2023-11-28T13:28:59.894606",
     "status": "completed"
    },
    "tags": []
   },
   "source": [
    "**lets the see the relation between the different user types and the duration of the trip**"
   ]
  },
  {
   "cell_type": "code",
   "execution_count": 24,
   "id": "ordered-identifier",
   "metadata": {
    "execution": {
     "iopub.execute_input": "2023-11-28T13:29:00.113258Z",
     "iopub.status.busy": "2023-11-28T13:29:00.112120Z",
     "iopub.status.idle": "2023-11-28T13:29:00.847349Z",
     "shell.execute_reply": "2023-11-28T13:29:00.846323Z",
     "shell.execute_reply.started": "2023-11-28T13:15:18.036907Z"
    },
    "papermill": {
     "duration": 0.811619,
     "end_time": "2023-11-28T13:29:00.847535",
     "exception": false,
     "start_time": "2023-11-28T13:29:00.035916",
     "status": "completed"
    },
    "tags": []
   },
   "outputs": [
    {
     "data": {
      "image/png": "[encoded data removed]",
      "text/plain": [
       "<Figure size 1080x648 with 1 Axes>"
      ]
     },
     "metadata": {
      "needs_background": "light"
     },
     "output_type": "display_data"
    }
   ],
   "source": [
    "sb.violinplot(data=df, x='user_type', y='duration_min', inner='quartile');\n",
    "plt.xlabel('Type of the user');\n",
    "plt.ylabel('Duration in minutes (Min)');"
   ]
  },
  {
   "cell_type": "markdown",
   "id": "clear-recognition",
   "metadata": {
    "papermill": {
     "duration": 0.069518,
     "end_time": "2023-11-28T13:29:00.986320",
     "exception": false,
     "start_time": "2023-11-28T13:29:00.916802",
     "status": "completed"
    },
    "tags": []
   },
   "source": []
  },
  {
   "cell_type": "markdown",
   "id": "mobile-barbados",
   "metadata": {
    "papermill": {
     "duration": 0.068427,
     "end_time": "2023-11-28T13:29:01.123262",
     "exception": false,
     "start_time": "2023-11-28T13:29:01.054835",
     "status": "completed"
    },
    "tags": []
   },
   "source": [
    "**we can conclude that the duration has a lot of outliers which affects our analysis, so we need to remove these outliers to get proper plots**"
   ]
  },
  {
   "cell_type": "markdown",
   "id": "described-paris",
   "metadata": {
    "papermill": {
     "duration": 0.07252,
     "end_time": "2023-11-28T13:29:01.266238",
     "exception": false,
     "start_time": "2023-11-28T13:29:01.193718",
     "status": "completed"
    },
    "tags": []
   },
   "source": [
    "### **removing outliers from the duration column**"
   ]
  },
  {
   "cell_type": "markdown",
   "id": "cardiac-honor",
   "metadata": {
    "papermill": {
     "duration": 0.069236,
     "end_time": "2023-11-28T13:29:01.405075",
     "exception": false,
     "start_time": "2023-11-28T13:29:01.335839",
     "status": "completed"
    },
    "tags": []
   },
   "source": []
  },
  {
   "cell_type": "code",
   "execution_count": 25,
   "id": "administrative-saint",
   "metadata": {
    "execution": {
     "iopub.execute_input": "2023-11-28T13:29:01.554487Z",
     "iopub.status.busy": "2023-11-28T13:29:01.553689Z",
     "iopub.status.idle": "2023-11-28T13:29:01.570841Z",
     "shell.execute_reply": "2023-11-28T13:29:01.571397Z",
     "shell.execute_reply.started": "2023-11-28T13:15:18.774132Z"
    },
    "papermill": {
     "duration": 0.094774,
     "end_time": "2023-11-28T13:29:01.571622",
     "exception": false,
     "start_time": "2023-11-28T13:29:01.476848",
     "status": "completed"
    },
    "tags": []
   },
   "outputs": [
    {
     "data": {
      "text/plain": [
       "count    183412.000000\n",
       "mean         12.101307\n",
       "std          29.906496\n",
       "min           1.016667\n",
       "2.5%          2.233333\n",
       "50%           8.566667\n",
       "97.5%        35.728750\n",
       "max        1424.066667\n",
       "Name: duration_min, dtype: float64"
      ]
     },
     "execution_count": 25,
     "metadata": {},
     "output_type": "execute_result"
    }
   ],
   "source": [
    "df['duration_min'].describe(percentiles=[0.025, .975])"
   ]
  },
  {
   "cell_type": "code",
   "execution_count": 26,
   "id": "impaired-embassy",
   "metadata": {
    "execution": {
     "iopub.execute_input": "2023-11-28T13:29:01.865140Z",
     "iopub.status.busy": "2023-11-28T13:29:01.863925Z",
     "iopub.status.idle": "2023-11-28T13:29:02.229419Z",
     "shell.execute_reply": "2023-11-28T13:29:02.228763Z",
     "shell.execute_reply.started": "2023-11-28T13:15:18.798387Z"
    },
    "papermill": {
     "duration": 0.586365,
     "end_time": "2023-11-28T13:29:02.229597",
     "exception": false,
     "start_time": "2023-11-28T13:29:01.643232",
     "status": "completed"
    },
    "tags": []
   },
   "outputs": [
    {
     "data": {
      "text/plain": [
       "Text(0.5, 1.0, 'Histogram of the duration in minutes')"
      ]
     },
     "execution_count": 26,
     "metadata": {},
     "output_type": "execute_result"
    },
    {
     "data": {
      "image/png": "[encoded data removed]",
      "text/plain": [
       "<Figure size 1080x648 with 1 Axes>"
      ]
     },
     "metadata": {
      "needs_background": "light"
     },
     "output_type": "display_data"
    }
   ],
   "source": [
    "plt.hist(df['duration_min'],bins = np.arange(0, 60, 1));\n",
    "plt.xlabel(\"duration in minutes\")\n",
    "plt.ylabel (\"Frequency\")\n",
    "plt.title(\"Histogram of the duration in minutes\")"
   ]
  },
  {
   "cell_type": "markdown",
   "id": "fallen-organizer",
   "metadata": {
    "papermill": {
     "duration": 0.069804,
     "end_time": "2023-11-28T13:29:02.373966",
     "exception": false,
     "start_time": "2023-11-28T13:29:02.304162",
     "status": "completed"
    },
    "tags": []
   },
   "source": [
    "**we can conclude that we can safely remove any trip whcih is longer than 50 min**"
   ]
  },
  {
   "cell_type": "code",
   "execution_count": 27,
   "id": "computational-footwear",
   "metadata": {
    "execution": {
     "iopub.execute_input": "2023-11-28T13:29:02.525351Z",
     "iopub.status.busy": "2023-11-28T13:29:02.524528Z",
     "iopub.status.idle": "2023-11-28T13:29:02.618179Z",
     "shell.execute_reply": "2023-11-28T13:29:02.617485Z",
     "shell.execute_reply.started": "2023-11-28T13:15:19.277302Z"
    },
    "papermill": {
     "duration": 0.1726,
     "end_time": "2023-11-28T13:29:02.618362",
     "exception": false,
     "start_time": "2023-11-28T13:29:02.445762",
     "status": "completed"
    },
    "tags": []
   },
   "outputs": [],
   "source": [
    "df = df[df[\"duration_min\"] <= 50]"
   ]
  },
  {
   "cell_type": "markdown",
   "id": "charitable-involvement",
   "metadata": {
    "papermill": {
     "duration": 0.069955,
     "end_time": "2023-11-28T13:29:02.761111",
     "exception": false,
     "start_time": "2023-11-28T13:29:02.691156",
     "status": "completed"
    },
    "tags": []
   },
   "source": [
    "**Let's see now the same previous plots after removing the outliers**"
   ]
  },
  {
   "cell_type": "code",
   "execution_count": 28,
   "id": "committed-slovak",
   "metadata": {
    "execution": {
     "iopub.execute_input": "2023-11-28T13:29:02.909916Z",
     "iopub.status.busy": "2023-11-28T13:29:02.909110Z",
     "iopub.status.idle": "2023-11-28T13:29:03.800900Z",
     "shell.execute_reply": "2023-11-28T13:29:03.799979Z",
     "shell.execute_reply.started": "2023-11-28T13:15:19.372467Z"
    },
    "papermill": {
     "duration": 0.970318,
     "end_time": "2023-11-28T13:29:03.801122",
     "exception": false,
     "start_time": "2023-11-28T13:29:02.830804",
     "status": "completed"
    },
    "tags": []
   },
   "outputs": [
    {
     "data": {
      "text/plain": [
       "Text(0.5, 1.0, 'relation between gender and duration of the trip')"
      ]
     },
     "execution_count": 28,
     "metadata": {},
     "output_type": "execute_result"
    },
    {
     "data": {
      "image/png": "[encoded data removed]",
      "text/plain": [
       "<Figure size 1080x648 with 1 Axes>"
      ]
     },
     "metadata": {
      "needs_background": "light"
     },
     "output_type": "display_data"
    }
   ],
   "source": [
    "sb.violinplot(data=df, x='member_gender', y='duration_min', inner='quartile');\n",
    "plt.xlabel('Gneder');\n",
    "plt.ylabel('Duration in minutes(Min)');\n",
    "plt.title(\"relation between gender and duration of the trip\")"
   ]
  },
  {
   "cell_type": "markdown",
   "id": "relative-inspection",
   "metadata": {
    "papermill": {
     "duration": 0.080408,
     "end_time": "2023-11-28T13:29:03.969006",
     "exception": false,
     "start_time": "2023-11-28T13:29:03.888598",
     "status": "completed"
    },
    "tags": []
   },
   "source": [
    "**we can conclude the gender is not affecting the duartion of the trip significantly**"
   ]
  },
  {
   "cell_type": "code",
   "execution_count": 29,
   "id": "aboriginal-disposition",
   "metadata": {
    "execution": {
     "iopub.execute_input": "2023-11-28T13:29:04.149621Z",
     "iopub.status.busy": "2023-11-28T13:29:04.148263Z",
     "iopub.status.idle": "2023-11-28T13:29:05.031038Z",
     "shell.execute_reply": "2023-11-28T13:29:05.031787Z",
     "shell.execute_reply.started": "2023-11-28T13:15:20.199770Z"
    },
    "papermill": {
     "duration": 0.981305,
     "end_time": "2023-11-28T13:29:05.032048",
     "exception": false,
     "start_time": "2023-11-28T13:29:04.050743",
     "status": "completed"
    },
    "tags": []
   },
   "outputs": [
    {
     "data": {
      "image/png": "[encoded data removed]",
      "text/plain": [
       "<Figure size 1080x648 with 1 Axes>"
      ]
     },
     "metadata": {
      "needs_background": "light"
     },
     "output_type": "display_data"
    }
   ],
   "source": [
    "sb.violinplot(data=df, x='user_type', y='duration_min', inner='quartile');\n",
    "plt.xlabel('Type of the user');\n",
    "plt.ylabel('Duration in minutes (Min)');\n",
    "plt.title(\"relation between user type and duration of the trip\");\n"
   ]
  },
  {
   "cell_type": "markdown",
   "id": "pretty-chick",
   "metadata": {
    "papermill": {
     "duration": 0.082065,
     "end_time": "2023-11-28T13:29:05.205456",
     "exception": false,
     "start_time": "2023-11-28T13:29:05.123391",
     "status": "completed"
    },
    "tags": []
   },
   "source": [
    "**we can see that the average duration of customers are longer than subscribers**"
   ]
  },
  {
   "cell_type": "markdown",
   "id": "pharmaceutical-calculator",
   "metadata": {
    "papermill": {
     "duration": 0.077109,
     "end_time": "2023-11-28T13:29:05.364574",
     "exception": false,
     "start_time": "2023-11-28T13:29:05.287465",
     "status": "completed"
    },
    "tags": []
   },
   "source": [
    "## **Multivariate Analysis**"
   ]
  },
  {
   "cell_type": "markdown",
   "id": "determined-algeria",
   "metadata": {
    "papermill": {
     "duration": 0.080115,
     "end_time": "2023-11-28T13:29:05.524512",
     "exception": false,
     "start_time": "2023-11-28T13:29:05.444397",
     "status": "completed"
    },
    "tags": []
   },
   "source": [
    "**lets see the relationship between the day and the hour and the user type as a heatmap**"
   ]
  },
  {
   "cell_type": "code",
   "execution_count": 30,
   "id": "latter-calibration",
   "metadata": {
    "execution": {
     "iopub.execute_input": "2023-11-28T13:29:05.689075Z",
     "iopub.status.busy": "2023-11-28T13:29:05.687889Z",
     "iopub.status.idle": "2023-11-28T13:29:05.796552Z",
     "shell.execute_reply": "2023-11-28T13:29:05.795745Z",
     "shell.execute_reply.started": "2023-11-28T13:15:21.039438Z"
    },
    "papermill": {
     "duration": 0.188152,
     "end_time": "2023-11-28T13:29:05.796739",
     "exception": false,
     "start_time": "2023-11-28T13:29:05.608587",
     "status": "completed"
    },
    "tags": []
   },
   "outputs": [],
   "source": [
    "customers = df.query('user_type == \"Customer\"')\n",
    "ct_counts = customers.groupby(['start_day', 'start_hour']).size()\n",
    "subscribers = df.query('user_type == \"Subscriber\"')\n",
    "st_counts = subscribers.groupby(['start_day', 'start_hour']).size()\n",
    "\n"
   ]
  },
  {
   "cell_type": "code",
   "execution_count": 31,
   "id": "ongoing-challenge",
   "metadata": {
    "execution": {
     "iopub.execute_input": "2023-11-28T13:29:05.957197Z",
     "iopub.status.busy": "2023-11-28T13:29:05.955864Z",
     "iopub.status.idle": "2023-11-28T13:29:05.961535Z",
     "shell.execute_reply": "2023-11-28T13:29:05.960874Z",
     "shell.execute_reply.started": "2023-11-28T13:15:21.145417Z"
    },
    "papermill": {
     "duration": 0.08993,
     "end_time": "2023-11-28T13:29:05.961724",
     "exception": false,
     "start_time": "2023-11-28T13:29:05.871794",
     "status": "completed"
    },
    "tags": []
   },
   "outputs": [],
   "source": [
    "ct_counts = ct_counts.reset_index(name='count')\n",
    "st_counts = st_counts.reset_index(name='count')"
   ]
  },
  {
   "cell_type": "code",
   "execution_count": 32,
   "id": "distant-alabama",
   "metadata": {
    "execution": {
     "iopub.execute_input": "2023-11-28T13:29:06.123605Z",
     "iopub.status.busy": "2023-11-28T13:29:06.122754Z",
     "iopub.status.idle": "2023-11-28T13:29:06.132283Z",
     "shell.execute_reply": "2023-11-28T13:29:06.131624Z",
     "shell.execute_reply.started": "2023-11-28T13:15:21.157977Z"
    },
    "papermill": {
     "duration": 0.094946,
     "end_time": "2023-11-28T13:29:06.132465",
     "exception": false,
     "start_time": "2023-11-28T13:29:06.037519",
     "status": "completed"
    },
    "tags": []
   },
   "outputs": [],
   "source": [
    "ct_counts = ct_counts.pivot(index='start_day', columns='start_hour', values='count')\n",
    "st_counts = st_counts.pivot(index='start_day', columns='start_hour', values='count')"
   ]
  },
  {
   "cell_type": "code",
   "execution_count": 33,
   "id": "reflected-istanbul",
   "metadata": {
    "execution": {
     "iopub.execute_input": "2023-11-28T13:29:06.310281Z",
     "iopub.status.busy": "2023-11-28T13:29:06.309381Z",
     "iopub.status.idle": "2023-11-28T13:29:06.314710Z",
     "shell.execute_reply": "2023-11-28T13:29:06.314116Z",
     "shell.execute_reply.started": "2023-11-28T13:15:21.176587Z"
    },
    "papermill": {
     "duration": 0.107018,
     "end_time": "2023-11-28T13:29:06.314874",
     "exception": false,
     "start_time": "2023-11-28T13:29:06.207856",
     "status": "completed"
    },
    "tags": []
   },
   "outputs": [
    {
     "data": {
      "text/html": [
       "<div>\n",
       "<style scoped>\n",
       "    .dataframe tbody tr th:only-of-type {\n",
       "        vertical-align: middle;\n",
       "    }\n",
       "\n",
       "    .dataframe tbody tr th {\n",
       "        vertical-align: top;\n",
       "    }\n",
       "\n",
       "    .dataframe thead th {\n",
       "        text-align: right;\n",
       "    }\n",
       "</style>\n",
       "<table border=\"1\" class=\"dataframe\">\n",
       "  <thead>\n",
       "    <tr style=\"text-align: right;\">\n",
       "      <th>start_hour</th>\n",
       "      <th>00</th>\n",
       "      <th>01</th>\n",
       "      <th>02</th>\n",
       "      <th>03</th>\n",
       "      <th>04</th>\n",
       "      <th>05</th>\n",
       "      <th>06</th>\n",
       "      <th>07</th>\n",
       "      <th>08</th>\n",
       "      <th>09</th>\n",
       "      <th>...</th>\n",
       "      <th>14</th>\n",
       "      <th>15</th>\n",
       "      <th>16</th>\n",
       "      <th>17</th>\n",
       "      <th>18</th>\n",
       "      <th>19</th>\n",
       "      <th>20</th>\n",
       "      <th>21</th>\n",
       "      <th>22</th>\n",
       "      <th>23</th>\n",
       "    </tr>\n",
       "    <tr>\n",
       "      <th>start_day</th>\n",
       "      <th></th>\n",
       "      <th></th>\n",
       "      <th></th>\n",
       "      <th></th>\n",
       "      <th></th>\n",
       "      <th></th>\n",
       "      <th></th>\n",
       "      <th></th>\n",
       "      <th></th>\n",
       "      <th></th>\n",
       "      <th></th>\n",
       "      <th></th>\n",
       "      <th></th>\n",
       "      <th></th>\n",
       "      <th></th>\n",
       "      <th></th>\n",
       "      <th></th>\n",
       "      <th></th>\n",
       "      <th></th>\n",
       "      <th></th>\n",
       "      <th></th>\n",
       "    </tr>\n",
       "  </thead>\n",
       "  <tbody>\n",
       "    <tr>\n",
       "      <th>Monday</th>\n",
       "      <td>10</td>\n",
       "      <td>1</td>\n",
       "      <td>1</td>\n",
       "      <td>0</td>\n",
       "      <td>4</td>\n",
       "      <td>6</td>\n",
       "      <td>42</td>\n",
       "      <td>128</td>\n",
       "      <td>253</td>\n",
       "      <td>194</td>\n",
       "      <td>...</td>\n",
       "      <td>142</td>\n",
       "      <td>164</td>\n",
       "      <td>241</td>\n",
       "      <td>338</td>\n",
       "      <td>188</td>\n",
       "      <td>112</td>\n",
       "      <td>73</td>\n",
       "      <td>55</td>\n",
       "      <td>33</td>\n",
       "      <td>11</td>\n",
       "    </tr>\n",
       "    <tr>\n",
       "      <th>Tuesday</th>\n",
       "      <td>4</td>\n",
       "      <td>3</td>\n",
       "      <td>4</td>\n",
       "      <td>0</td>\n",
       "      <td>2</td>\n",
       "      <td>9</td>\n",
       "      <td>36</td>\n",
       "      <td>133</td>\n",
       "      <td>346</td>\n",
       "      <td>212</td>\n",
       "      <td>...</td>\n",
       "      <td>119</td>\n",
       "      <td>137</td>\n",
       "      <td>194</td>\n",
       "      <td>356</td>\n",
       "      <td>255</td>\n",
       "      <td>140</td>\n",
       "      <td>64</td>\n",
       "      <td>46</td>\n",
       "      <td>36</td>\n",
       "      <td>14</td>\n",
       "    </tr>\n",
       "    <tr>\n",
       "      <th>Wednesday</th>\n",
       "      <td>11</td>\n",
       "      <td>2</td>\n",
       "      <td>1</td>\n",
       "      <td>1</td>\n",
       "      <td>1</td>\n",
       "      <td>7</td>\n",
       "      <td>34</td>\n",
       "      <td>102</td>\n",
       "      <td>286</td>\n",
       "      <td>169</td>\n",
       "      <td>...</td>\n",
       "      <td>104</td>\n",
       "      <td>129</td>\n",
       "      <td>189</td>\n",
       "      <td>364</td>\n",
       "      <td>247</td>\n",
       "      <td>125</td>\n",
       "      <td>95</td>\n",
       "      <td>58</td>\n",
       "      <td>41</td>\n",
       "      <td>29</td>\n",
       "    </tr>\n",
       "    <tr>\n",
       "      <th>Thursday</th>\n",
       "      <td>16</td>\n",
       "      <td>4</td>\n",
       "      <td>3</td>\n",
       "      <td>1</td>\n",
       "      <td>2</td>\n",
       "      <td>20</td>\n",
       "      <td>41</td>\n",
       "      <td>164</td>\n",
       "      <td>338</td>\n",
       "      <td>264</td>\n",
       "      <td>...</td>\n",
       "      <td>133</td>\n",
       "      <td>161</td>\n",
       "      <td>268</td>\n",
       "      <td>502</td>\n",
       "      <td>387</td>\n",
       "      <td>196</td>\n",
       "      <td>111</td>\n",
       "      <td>69</td>\n",
       "      <td>53</td>\n",
       "      <td>34</td>\n",
       "    </tr>\n",
       "    <tr>\n",
       "      <th>Friday</th>\n",
       "      <td>15</td>\n",
       "      <td>5</td>\n",
       "      <td>9</td>\n",
       "      <td>2</td>\n",
       "      <td>2</td>\n",
       "      <td>14</td>\n",
       "      <td>35</td>\n",
       "      <td>163</td>\n",
       "      <td>386</td>\n",
       "      <td>292</td>\n",
       "      <td>...</td>\n",
       "      <td>133</td>\n",
       "      <td>183</td>\n",
       "      <td>241</td>\n",
       "      <td>319</td>\n",
       "      <td>175</td>\n",
       "      <td>90</td>\n",
       "      <td>63</td>\n",
       "      <td>64</td>\n",
       "      <td>56</td>\n",
       "      <td>36</td>\n",
       "    </tr>\n",
       "    <tr>\n",
       "      <th>Saturday</th>\n",
       "      <td>28</td>\n",
       "      <td>19</td>\n",
       "      <td>9</td>\n",
       "      <td>4</td>\n",
       "      <td>5</td>\n",
       "      <td>11</td>\n",
       "      <td>3</td>\n",
       "      <td>18</td>\n",
       "      <td>59</td>\n",
       "      <td>106</td>\n",
       "      <td>...</td>\n",
       "      <td>299</td>\n",
       "      <td>235</td>\n",
       "      <td>219</td>\n",
       "      <td>169</td>\n",
       "      <td>99</td>\n",
       "      <td>76</td>\n",
       "      <td>47</td>\n",
       "      <td>41</td>\n",
       "      <td>29</td>\n",
       "      <td>36</td>\n",
       "    </tr>\n",
       "    <tr>\n",
       "      <th>Sunday</th>\n",
       "      <td>17</td>\n",
       "      <td>19</td>\n",
       "      <td>23</td>\n",
       "      <td>4</td>\n",
       "      <td>4</td>\n",
       "      <td>4</td>\n",
       "      <td>2</td>\n",
       "      <td>18</td>\n",
       "      <td>42</td>\n",
       "      <td>78</td>\n",
       "      <td>...</td>\n",
       "      <td>296</td>\n",
       "      <td>279</td>\n",
       "      <td>280</td>\n",
       "      <td>196</td>\n",
       "      <td>127</td>\n",
       "      <td>84</td>\n",
       "      <td>75</td>\n",
       "      <td>48</td>\n",
       "      <td>32</td>\n",
       "      <td>24</td>\n",
       "    </tr>\n",
       "  </tbody>\n",
       "</table>\n",
       "<p>7 rows × 24 columns</p>\n",
       "</div>"
      ],
      "text/plain": [
       "start_hour  00  01  02  03  04  05  06   07   08   09  ...   14   15   16  \\\n",
       "start_day                                              ...                  \n",
       "Monday      10   1   1   0   4   6  42  128  253  194  ...  142  164  241   \n",
       "Tuesday      4   3   4   0   2   9  36  133  346  212  ...  119  137  194   \n",
       "Wednesday   11   2   1   1   1   7  34  102  286  169  ...  104  129  189   \n",
       "Thursday    16   4   3   1   2  20  41  164  338  264  ...  133  161  268   \n",
       "Friday      15   5   9   2   2  14  35  163  386  292  ...  133  183  241   \n",
       "Saturday    28  19   9   4   5  11   3   18   59  106  ...  299  235  219   \n",
       "Sunday      17  19  23   4   4   4   2   18   42   78  ...  296  279  280   \n",
       "\n",
       "start_hour   17   18   19   20  21  22  23  \n",
       "start_day                                   \n",
       "Monday      338  188  112   73  55  33  11  \n",
       "Tuesday     356  255  140   64  46  36  14  \n",
       "Wednesday   364  247  125   95  58  41  29  \n",
       "Thursday    502  387  196  111  69  53  34  \n",
       "Friday      319  175   90   63  64  56  36  \n",
       "Saturday    169   99   76   47  41  29  36  \n",
       "Sunday      196  127   84   75  48  32  24  \n",
       "\n",
       "[7 rows x 24 columns]"
      ]
     },
     "execution_count": 33,
     "metadata": {},
     "output_type": "execute_result"
    }
   ],
   "source": [
    "ct_counts"
   ]
  },
  {
   "cell_type": "code",
   "execution_count": 34,
   "id": "upset-baltimore",
   "metadata": {
    "execution": {
     "iopub.execute_input": "2023-11-28T13:29:06.474763Z",
     "iopub.status.busy": "2023-11-28T13:29:06.473942Z",
     "iopub.status.idle": "2023-11-28T13:29:07.390044Z",
     "shell.execute_reply": "2023-11-28T13:29:07.389280Z",
     "shell.execute_reply.started": "2023-11-28T13:15:21.207451Z"
    },
    "papermill": {
     "duration": 0.997582,
     "end_time": "2023-11-28T13:29:07.390205",
     "exception": false,
     "start_time": "2023-11-28T13:29:06.392623",
     "status": "completed"
    },
    "tags": []
   },
   "outputs": [
    {
     "data": {
      "image/png": "[encoded data removed]",
      "text/plain": [
       "<Figure size 1080x648 with 4 Axes>"
      ]
     },
     "metadata": {
      "needs_background": "light"
     },
     "output_type": "display_data"
    }
   ],
   "source": [
    "plt.suptitle('trips starting times for both customers and subscribers')\n",
    "\n",
    "plt.subplot(2, 1, 1)\n",
    "\n",
    "sb.heatmap(ct_counts, cmap='rocket_r');\n",
    "plt.title('Customers starting trip timing', loc='right');\n",
    "plt.xlabel('the Hour');\n",
    "plt.ylabel('Days');\n",
    "\n",
    "plt.subplot(2, 1, 2)\n",
    "sb.heatmap(st_counts, cmap='rocket_r');\n",
    "plt.title('Subscribers starting trip timing', loc='right');\n",
    "plt.xlabel('the hour');\n",
    "plt.ylabel('Days');\n"
   ]
  },
  {
   "cell_type": "markdown",
   "id": "hindu-retreat",
   "metadata": {
    "papermill": {
     "duration": 0.076971,
     "end_time": "2023-11-28T13:29:07.547687",
     "exception": false,
     "start_time": "2023-11-28T13:29:07.470716",
     "status": "completed"
    },
    "tags": []
   },
   "source": [
    "**we can conclude that the usage patterns of customers differ from that of subscribers, the customers are active the most on the platform from 7 to 9 and from 16 to 19 in week days while in week ends they are active the most from 10 to 17.**\n",
    "\n",
    "**while subscribers are active the most from 6 to 9 and from 16 to 19 in weekdays.\n",
    "we can conclude that most of the subscribers use the platform to go to and back from work**"
   ]
  },
  {
   "cell_type": "markdown",
   "id": "particular-morocco",
   "metadata": {
    "papermill": {
     "duration": 0.079332,
     "end_time": "2023-11-28T13:29:07.704387",
     "exception": false,
     "start_time": "2023-11-28T13:29:07.625055",
     "status": "completed"
    },
    "tags": []
   },
   "source": [
    "## Conclusions"
   ]
  },
  {
   "cell_type": "code",
   "execution_count": 35,
   "id": "annual-opportunity",
   "metadata": {
    "execution": {
     "iopub.execute_input": "2023-11-28T13:29:07.864706Z",
     "iopub.status.busy": "2023-11-28T13:29:07.863910Z",
     "iopub.status.idle": "2023-11-28T13:29:07.867987Z",
     "shell.execute_reply": "2023-11-28T13:29:07.868622Z",
     "shell.execute_reply.started": "2023-11-28T13:15:22.149042Z"
    },
    "papermill": {
     "duration": 0.086527,
     "end_time": "2023-11-28T13:29:07.868853",
     "exception": false,
     "start_time": "2023-11-28T13:29:07.782326",
     "status": "completed"
    },
    "scrolled": true,
    "tags": []
   },
   "outputs": [],
   "source": [
    "### subscribers uses the platform to go and back from work in rush hours while customers use the platform form liesure usage.\n",
    "### most of the platfrom's users are subscribers.\n",
    "### the average trip duration for customers are longer because they are exploring and and enjoying the ride."
   ]
  }
 ],
 "metadata": {
  "kaggle": {
   "accelerator": "none",
   "dataSources": [
    {
     "datasetId": 1433128,
     "sourceId": 2371933,
     "sourceType": "datasetVersion"
    }
   ],
   "dockerImageVersionId": 30096,
   "isGpuEnabled": false,
   "isInternetEnabled": true,
   "language": "python",
   "sourceType": "notebook"
  },
  "kernelspec": {
   "display_name": "Python 3",
   "language": "python",
   "name": "python3"
  },
  "language_info": {
   "codemirror_mode": {
    "name": "ipython",
    "version": 3
   },
   "file_extension": ".py",
   "mimetype": "text/x-python",
   "name": "python",
   "nbconvert_exporter": "python",
   "pygments_lexer": "ipython3",
   "version": "3.7.10"
  },
  "papermill": {
   "default_parameters": {},
   "duration": 36.213313,
   "end_time": "2023-11-28T13:29:09.461331",
   "environment_variables": {},
   "exception": null,
   "input_path": "__notebook__.ipynb",
   "output_path": "__notebook__.ipynb",
   "parameters": {},
   "start_time": "2023-11-28T13:28:33.248018",
   "version": "2.3.3"
  }
 },
 "nbformat": 4,
 "nbformat_minor": 5
}
